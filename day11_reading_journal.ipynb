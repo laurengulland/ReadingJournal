{
 "cells": [
  {
   "cell_type": "markdown",
   "metadata": {},
   "source": [
    "# Day 11 Reading Journal\n",
    "\n",
    "This journal includes several required exercises, but it is meant to encourage active reading more generally.  You should use the journal to take detailed notes, catalog questions, and explore the content from Think Python deeply.\n",
    "\n",
    "Reading: Review Think Python Chapters 15-17\n",
    "\n",
    "**Due: Monday, February 29 at 12 noon**\n",
    "\n"
   ]
  },
  {
   "cell_type": "markdown",
   "metadata": {},
   "source": [
    "## [Chapter 15](http://www.greenteapress.com/thinkpython/html/thinkpython016.html), [Chapter 16](http://www.greenteapress.com/thinkpython/html/thinkpython017.html), [Chapter 17](http://www.greenteapress.com/thinkpython/html/thinkpython018.html)\n",
    "\n",
    "\n",
    "By the end of chapter 17, we have all the tools we need to create our own user-defined types known as classes. In this reading journal, we're asking you to review and solidify your understanding of this material so we can build on it for the rest of the course. \n",
    "\n",
    "If you didn't get a chance to fully complete the Day 10 reading journal, you may want to do so now."
   ]
  },
  {
   "cell_type": "markdown",
   "metadata": {
    "problem": "Terminology"
   },
   "source": [
    "### Terminology\n",
    "\n",
    "You should be familiar with the following list of terms and concepts. If any of them are unclear to you, re-read, ask, write a definition in your own words, and try an example if appropriate.\n",
    "\n",
    " - class\n",
    " - object\n",
    " - instance\n",
    " - attribute\n",
    " - method\n",
    " - shallow vs deep copying\n",
    " - pure functions vs modifiers\n",
    " - initializing object instances\n",
    " "
   ]
  },
  {
   "cell_type": "markdown",
   "metadata": {
    "is_question": true,
    "problem": "Exercise 1"
   },
   "source": [
    "### Exercise\n",
    "\n",
    "We're going to take the first steps toward writing a calendar application. To keep things simple, we'll restrict ourselves to a single day for now. Write an `Event` class with the following attributes:\n",
    "\n",
    " - `name`  : Title for the `Event`\n",
    " - `start` : `Time` object representing the start time for the `Event`\n",
    " - `end`   : `Time` object representing the end time for the `Event`\n",
    "\n",
    "You can also augment your `Event` class with additional attributes, such as location and attendees.\n",
    "\n",
    "Write `__init__` and `__str__` methods for your `Event` class."
   ]
  },
  {
   "cell_type": "code",
   "execution_count": 7,
   "metadata": {
    "collapsed": false,
    "solution": "Exercise 1"
   },
   "outputs": [
    {
     "name": "stdout",
     "output_type": "stream",
     "text": [
      "\"Get Some Sleep You Moron\" begins at 06:00 and ends at 08:56 on 02/29/2016\n"
     ]
    }
   ],
   "source": [
    "class Time(object):\n",
    "    '''Represents the time of day.\n",
    "    \n",
    "    attributes: hour, minute\n",
    "    '''\n",
    "    def __init__(self, hour=0, minute=0):\n",
    "        self.hour = hour\n",
    "        self.minute = minute\n",
    "    def __str__(self):\n",
    "        return '%.2d:%.2d' %(self.hour,self.minute)\n",
    "    \n",
    "class Date(object):\n",
    "    def __init__(self, month=1, day=1, year=2016):\n",
    "        self.month = month\n",
    "        self.day = day\n",
    "        self.year = year\n",
    "    def __str__(self):\n",
    "        return '%.2d/%.2d/%.2d' %(self.month, self.day, self.year)\n",
    "    \n",
    "class Event(object):\n",
    "    def __init__(self, name='', start=Time(), end=Time(), date=Date()):\n",
    "        self.name = name\n",
    "        self.start = start\n",
    "        self.end = end\n",
    "        self.date = date\n",
    "    def __str__(self):\n",
    "        return '\\\"%s\\\" begins at %s and ends at %s on %s' %(self.name, self.start, self.end, self.date)\n",
    "\n",
    "bedtime = Time(6, 0)\n",
    "wakeup = Time(8, 56)\n",
    "today = Date(2,29,2016)\n",
    "sleep = Event('Get Some Sleep You Moron', bedtime, wakeup, today)\n",
    "\n",
    "print sleep"
   ]
  },
  {
   "cell_type": "markdown",
   "metadata": {
    "is_question": true,
    "problem": "Exercise 2"
   },
   "source": [
    "### Exercise\n",
    "\n",
    "Write a `duration` method that returns the duration of the `Event` in minutes."
   ]
  },
  {
   "cell_type": "code",
   "execution_count": 39,
   "metadata": {
    "collapsed": false,
    "solution": "Exercise 2"
   },
   "outputs": [
    {
     "name": "stdout",
     "output_type": "stream",
     "text": [
      "\"Get Some Sleep You Moron\" begins at 06:15 and ends at 08:56 on 02/29/2016\n",
      "\"Get Some Sleep You Moron\" is 191 minutes long. You got this. I believe in you.\n",
      "\"Get Some Sleep You Moron\" is 03:11 long\n"
     ]
    }
   ],
   "source": [
    "class Time(object):\n",
    "    '''Represents the time of day.\n",
    "    \n",
    "    attributes: hour, minute\n",
    "    '''\n",
    "    def __init__(self, hour=0, minute=0):\n",
    "        self.hour = hour\n",
    "        self.minute = minute\n",
    "    def __str__(self):\n",
    "        return '%.2d:%.2d' %(self.hour,self.minute)\n",
    "    \n",
    "class Date(object):\n",
    "    def __init__(self, month=1, day=1, year=2016):\n",
    "        self.month = month\n",
    "        self.day = day\n",
    "        self.year = year\n",
    "    def __str__(self):\n",
    "        return '%.2d/%.2d/%.2d' %(self.month, self.day, self.year)\n",
    "    \n",
    "class Event(object):\n",
    "    def __init__(self, name='', start=Time(), end=Time(), date=Date()):\n",
    "        self.name = name\n",
    "        self.start = start\n",
    "        self.end = end\n",
    "        self.date = date\n",
    "    def __str__(self):\n",
    "        return '\\\"%s\\\" begins at %s and ends at %s on %s' %(self.name, self.start, self.end, self.date)\n",
    "    def durationMinutes(self):\n",
    "        end = self.end\n",
    "        start = self.start\n",
    "        duration = (end.hour*60+end.minute)-(start.hour*60-start.minute)\n",
    "        encouragement = ''\n",
    "        if duration <270 and 'sleep' in self.name.lower(): #if you need to go to bed:\n",
    "            encouragement = 'You got this. I believe in you.' #print some encouraging words because you probably need it honestly\n",
    "        return '\\\"%s\\\" is %s minutes long. %s' %(self.name, duration, encouragement)\n",
    "    def durationHoursMinutes(self):\n",
    "        end = self.end\n",
    "        start = self.start\n",
    "        total_minutes = (end.hour*60+end.minute)-(start.hour*60-start.minute)\n",
    "        hours = total_minutes/60\n",
    "        minutes = total_minutes%60\n",
    "        return '\\\"%s\\\" is %.2d:%.2d long' %(self.name, hours, minutes)\n",
    "\n",
    "bedtime = Time(6, 15)\n",
    "wakeup = Time(8, 56)\n",
    "today = Date(2,29,2016)\n",
    "sleep = Event('Get Some Sleep You Moron', bedtime, wakeup, today)\n",
    "\n",
    "print sleep\n",
    "print sleep.durationMinutes()\n",
    "print sleep.durationHoursMinutes()"
   ]
  },
  {
   "cell_type": "markdown",
   "metadata": {
    "is_question": true,
    "problem": "Exercise 3"
   },
   "source": [
    "### Exercise\n",
    "\n",
    "Write an `Agenda` class that contains several `Event`s for the day.\n",
    "\n",
    "**Quick check: ** How should you store `Event`s within your `Agenda` class?\n",
    "\n",
    "Your `Agenda` class should include a `print_agenda` method that prints out your schedule for the day, in order.\n",
    "\n",
    "**Optional:** Include a `is_feasible` method that returns `True` if your schedule has no time conflicts. You may want to write additional helper methods for the `Event` class to make this easier."
   ]
  },
  {
   "cell_type": "code",
   "execution_count": 37,
   "metadata": {
    "collapsed": false,
    "solution": "Exercise 3"
   },
   "outputs": [
    {
     "ename": "TypeError",
     "evalue": "__init__() takes at most 3 arguments (4 given)",
     "output_type": "error",
     "traceback": [
      "\u001b[1;31m---------------------------------------------------------------------------\u001b[0m",
      "\u001b[1;31mTypeError\u001b[0m                                 Traceback (most recent call last)",
      "\u001b[1;32m<ipython-input-37-8e03d4d8c796>\u001b[0m in \u001b[0;36m<module>\u001b[1;34m()\u001b[0m\n\u001b[0;32m     65\u001b[0m \u001b[0mSoftDes\u001b[0m \u001b[1;33m=\u001b[0m \u001b[0mEvent\u001b[0m\u001b[1;33m(\u001b[0m\u001b[1;34m'SoftDes'\u001b[0m\u001b[1;33m,\u001b[0m \u001b[0mTime\u001b[0m\u001b[1;33m(\u001b[0m\u001b[1;36m1\u001b[0m\u001b[1;33m,\u001b[0m\u001b[1;36m30\u001b[0m\u001b[1;33m)\u001b[0m\u001b[1;33m,\u001b[0m \u001b[0mTime\u001b[0m\u001b[1;33m(\u001b[0m\u001b[1;36m3\u001b[0m\u001b[1;33m,\u001b[0m\u001b[1;36m10\u001b[0m\u001b[1;33m)\u001b[0m\u001b[1;33m,\u001b[0m \u001b[0mtoday\u001b[0m\u001b[1;33m)\u001b[0m\u001b[1;33m\u001b[0m\u001b[0m\n\u001b[0;32m     66\u001b[0m \u001b[1;33m\u001b[0m\u001b[0m\n\u001b[1;32m---> 67\u001b[1;33m \u001b[0mschedule\u001b[0m \u001b[1;33m=\u001b[0m \u001b[0mAgenda\u001b[0m\u001b[1;33m(\u001b[0m\u001b[1;34m'schedule'\u001b[0m\u001b[1;33m,\u001b[0m\u001b[0mtoday\u001b[0m\u001b[1;33m,\u001b[0m \u001b[1;33m[\u001b[0m\u001b[0msleep\u001b[0m\u001b[1;33m,\u001b[0m \u001b[0mQEA\u001b[0m\u001b[1;33m,\u001b[0m \u001b[0mmeeting\u001b[0m\u001b[1;33m,\u001b[0m \u001b[0mSoftDes\u001b[0m\u001b[1;33m]\u001b[0m\u001b[1;33m)\u001b[0m\u001b[1;33m\u001b[0m\u001b[0m\n\u001b[0m\u001b[0;32m     68\u001b[0m \u001b[0mschedule\u001b[0m\u001b[1;33m.\u001b[0m\u001b[0mprint_agenda\u001b[0m\u001b[1;33m(\u001b[0m\u001b[1;33m)\u001b[0m\u001b[1;33m\u001b[0m\u001b[0m\n\u001b[0;32m     69\u001b[0m \u001b[1;33m\u001b[0m\u001b[0m\n",
      "\u001b[1;31mTypeError\u001b[0m: __init__() takes at most 3 arguments (4 given)"
     ]
    }
   ],
   "source": [
    "class Time(object):\n",
    "    '''Represents the time of day.\n",
    "    \n",
    "    attributes: hour, minute\n",
    "    '''\n",
    "    def __init__(self, hour=0, minute=0):\n",
    "        self.hour = hour\n",
    "        self.minute = minute\n",
    "    def __str__(self):\n",
    "        return '%.2d:%.2d' %(self.hour,self.minute)\n",
    "    \n",
    "class Date(object):\n",
    "    def __init__(self, month=1, day=1, year=2016):\n",
    "        self.month = month\n",
    "        self.day = day\n",
    "        self.year = year\n",
    "    def __str__(self):\n",
    "        return '%.2d/%.2d/%.2d' %(self.month, self.day, self.year)\n",
    "    \n",
    "class Event(object):\n",
    "    def __init__(self, name='', start=Time(), end=Time(), date=Date()):\n",
    "        self.name = name\n",
    "        self.start = start\n",
    "        self.end = end\n",
    "        self.date = date\n",
    "    def __str__(self):\n",
    "        return '\\\"%s\\\" begins at %s and ends at %s on %s' %(self.name, self.start, self.end, self.date)\n",
    "    def durationMinutes(self):\n",
    "        end = self.end\n",
    "        start = self.start\n",
    "        duration = (end.hour*60+end.minute)-(start.hour*60-start.minute)\n",
    "        encouragement = ''\n",
    "        if duration <270 and 'sleep' in self.name.lower(): #if you need to go to bed:\n",
    "            encouragement = 'You got this. I believe in you.' #print some encouraging words because you probably need it honestly\n",
    "        return '\\\"%s\\\" is %s minutes long. %s' %(self.name, duration, encouragement)\n",
    "    def durationHoursMinutes(self):\n",
    "        end = self.end\n",
    "        start = self.start\n",
    "        total_minutes = (end.hour*60+end.minute)-(start.hour*60-start.minute)\n",
    "        hours = total_minutes/60\n",
    "        minutes = total_minutes%60\n",
    "        return '\\\"%s\\\" is %.2d:%.2d long' %(self.name, hours, minutes)\n",
    "\n",
    "\n",
    "class Agenda(object):\n",
    "    def __init__(self, date=Date(), contents = None):\n",
    "        self.date = date\n",
    "        if contents == None:\n",
    "            contents = []\n",
    "        self.contents = contents\n",
    "    def print_agenda(self):\n",
    "        print 'Agenda for %s' %(self.date)\n",
    "        for i in contents:\n",
    "            print i\n",
    "        \n",
    "            \n",
    "    \n",
    "bedtime = Time(6, 15)\n",
    "wakeup = Time(8, 56)\n",
    "today = Date(2,29,2016)\n",
    "sleep = Event('Get Some Sleep You Moron', bedtime, wakeup, today)\n",
    "\n",
    "QEA = Event('QEA', Time(9,0), Time(12, 30), today)\n",
    "meeting = Event('Lunch Meeting', Time(12, 35), Time(1, 25), today)\n",
    "SoftDes = Event('SoftDes', Time(1,30), Time(3,10), today)\n",
    "\n",
    "schedule = Agenda('schedule',today, [sleep, QEA, meeting, SoftDes])\n",
    "schedule.print_agenda()\n",
    "\n",
    "        "
   ]
  },
  {
   "cell_type": "markdown",
   "metadata": {
    "is_question": true,
    "problem": "Exercise 4"
   },
   "source": [
    "### Going Beyond (optional)\n",
    "\n",
    "Some ideas for taking your application further:\n",
    " - Add people and/or places to the mix to create a scheduling assistant\n",
    " - Extend support for day-of-week or full date. A word of warning: dealing with dates and times in real applications is difficult due to the huge number of special cases (Perfect example: this reading journal is due on Leap Day). Consider using something like the Python [datetime](https://docs.python.org/2/library/datetime.html) module.\n",
    " - Use pickle or some other persistence strategy to save and load your `Agenda`."
   ]
  },
  {
   "cell_type": "code",
   "execution_count": null,
   "metadata": {
    "collapsed": true,
    "solution": "Exercise 4"
   },
   "outputs": [],
   "source": []
  },
  {
   "cell_type": "markdown",
   "metadata": {
    "is_poll": true,
    "is_question": true,
    "problem": "Time spent"
   },
   "source": [
    "## Quick poll\n",
    "About how long did you spend working on this Reading Journal?"
   ]
  },
  {
   "cell_type": "markdown",
   "metadata": {
    "poll_response": true,
    "solution": "Time spent"
   },
   "source": [
    "Probably around an hour. This was mostly my fault though, because a) I took some exercises farther than instructed, and, mainly b) I'm tiredddddddddddddddddd (It was a pretty sunrise this morning at least!)"
   ]
  },
  {
   "cell_type": "markdown",
   "metadata": {
    "is_question": true,
    "problem": "Feedback"
   },
   "source": [
    "## Reading Journal feedback\n",
    "\n",
    "Have any comments on this Reading Journal? Feel free to leave them below and we'll read them when you submit your journal entry. This could include suggestions to improve the exercises, topics you'd like to see covered in class next time, or other feedback.\n",
    "\n",
    "If you have Python questions or run into problems while completing the reading, you should post them to Piazza instead so you can get a quick response before your journal is submitted."
   ]
  },
  {
   "cell_type": "markdown",
   "metadata": {
    "feedback_response": true,
    "solution": "Feedback"
   },
   "source": [
    " "
   ]
  }
 ],
 "metadata": {
  "celltoolbar": "Edit Metadata",
  "kernelspec": {
   "display_name": "Python 2",
   "language": "python",
   "name": "python2"
  },
  "language_info": {
   "codemirror_mode": {
    "name": "ipython",
    "version": 2
   },
   "file_extension": ".py",
   "mimetype": "text/x-python",
   "name": "python",
   "nbconvert_exporter": "python",
   "pygments_lexer": "ipython2",
   "version": "2.7.6"
  }
 },
 "nbformat": 4,
 "nbformat_minor": 0
}
